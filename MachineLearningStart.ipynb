{
  "nbformat": 4,
  "nbformat_minor": 0,
  "metadata": {
    "colab": {
      "provenance": [],
      "collapsed_sections": []
    },
    "kernelspec": {
      "name": "python3",
      "display_name": "Python 3"
    },
    "language_info": {
      "name": "python"
    }
  },
  "cells": [
    {
      "cell_type": "markdown",
      "source": [
        "# Starter point for the Machine Learning element of the coursework\n",
        "\n",
        "This part of the coursework uses the same dataset as used in the first part of the coursework. In this part of the coursework you are going to develop four machine learning models for predicting the 'median_house_value' from the dataset. The focus here is on comparing the different models and looking at how you can improve them. There is no need to use a cleaned up version of the data from the first part of the coursework. But you can if you wish."
      ],
      "metadata": {
        "id": "WuJhI64Qg-lp"
      }
    },
    {
      "cell_type": "markdown",
      "source": [
        "# Read in the data"
      ],
      "metadata": {
        "id": "VA6pBhl5epn3"
      }
    },
    {
      "cell_type": "code",
      "execution_count": null,
      "metadata": {
        "id": "KatzrPHcDdJT"
      },
      "outputs": [],
      "source": [
        "import pandas as pd"
      ]
    },
    {
      "cell_type": "code",
      "source": [
        "houses = pd.read_csv('https://raw.githubusercontent.com/PaoloMissier/CSC3831-2021-22/main/IMPUTATION/TARGET-DATASETS/ORIGINAL/houses.csv', header=0)"
      ],
      "metadata": {
        "id": "Y_7N8l9zDkqi"
      },
      "execution_count": null,
      "outputs": []
    },
    {
      "cell_type": "code",
      "source": [
        "houses.columns"
      ],
      "metadata": {
        "colab": {
          "base_uri": "https://localhost:8080/"
        },
        "id": "MnXRX3XyDoos",
        "outputId": "49eee6c3-d209-4eea-fd77-38c246816710"
      },
      "execution_count": null,
      "outputs": [
        {
          "output_type": "execute_result",
          "data": {
            "text/plain": [
              "Index(['median_house_value', 'median_income', 'housing_median_age',\n",
              "       'total_rooms', 'total_bedrooms', 'population', 'households', 'latitude',\n",
              "       'longitude'],\n",
              "      dtype='object')"
            ]
          },
          "metadata": {},
          "execution_count": 4
        }
      ]
    },
    {
      "cell_type": "markdown",
      "source": [
        "# Perform any data preparation on the dataset"
      ],
      "metadata": {
        "id": "lb1pl1pjeoSN"
      }
    },
    {
      "cell_type": "code",
      "source": [],
      "metadata": {
        "id": "oUMNolVvEMss"
      },
      "execution_count": null,
      "outputs": []
    },
    {
      "cell_type": "markdown",
      "source": [
        "# Split the data into samples and labels"
      ],
      "metadata": {
        "id": "hhYQd16ze4ci"
      }
    },
    {
      "cell_type": "code",
      "source": [],
      "metadata": {
        "id": "LHqwFVZKFhI3"
      },
      "execution_count": null,
      "outputs": []
    },
    {
      "cell_type": "markdown",
      "source": [
        "# Split the data into training and testing data"
      ],
      "metadata": {
        "id": "_u3ivZ2dfCtm"
      }
    },
    {
      "cell_type": "code",
      "source": [],
      "metadata": {
        "id": "EW1S14bsGBE_"
      },
      "execution_count": null,
      "outputs": []
    },
    {
      "cell_type": "markdown",
      "source": [
        "# First model"
      ],
      "metadata": {
        "id": "bVN7d-rdfK8Q"
      }
    },
    {
      "cell_type": "code",
      "source": [],
      "metadata": {
        "id": "OrCts1npGGXB"
      },
      "execution_count": null,
      "outputs": []
    },
    {
      "cell_type": "markdown",
      "source": [
        "# Test the first model"
      ],
      "metadata": {
        "id": "JgYifG_cfRpW"
      }
    },
    {
      "cell_type": "code",
      "source": [],
      "metadata": {
        "id": "znTM-f-kffqu"
      },
      "execution_count": null,
      "outputs": []
    },
    {
      "cell_type": "markdown",
      "source": [
        "# Any other metrics or hyperparameters that can be looked at?"
      ],
      "metadata": {
        "id": "yNIUDzmSfYqR"
      }
    },
    {
      "cell_type": "code",
      "source": [],
      "metadata": {
        "id": "ykqIPe26GVcP"
      },
      "execution_count": null,
      "outputs": []
    },
    {
      "cell_type": "markdown",
      "source": [
        "# Second model"
      ],
      "metadata": {
        "id": "TjnNl0cdfyPh"
      }
    },
    {
      "cell_type": "code",
      "source": [],
      "metadata": {
        "id": "BawMdARzG-lR"
      },
      "execution_count": null,
      "outputs": []
    },
    {
      "cell_type": "markdown",
      "source": [
        "# Test the second model"
      ],
      "metadata": {
        "id": "QnBtB180f4Ei"
      }
    },
    {
      "cell_type": "code",
      "source": [],
      "metadata": {
        "id": "_xGiGiOLHOaH"
      },
      "execution_count": null,
      "outputs": []
    },
    {
      "cell_type": "markdown",
      "source": [
        "# Any other metrics or hyperparameters that can be looked at?"
      ],
      "metadata": {
        "id": "MlCcyqPzgF1j"
      }
    },
    {
      "cell_type": "code",
      "source": [],
      "metadata": {
        "id": "3aXs3NVWgN__"
      },
      "execution_count": null,
      "outputs": []
    },
    {
      "cell_type": "markdown",
      "source": [
        "# Third model\n",
        "\n",
        "\n"
      ],
      "metadata": {
        "id": "r229ri0-IRDy"
      }
    },
    {
      "cell_type": "code",
      "source": [],
      "metadata": {
        "id": "LogfiFasIVdx"
      },
      "execution_count": null,
      "outputs": []
    },
    {
      "cell_type": "markdown",
      "source": [
        "# Test the third model"
      ],
      "metadata": {
        "id": "a7T7RkOwgV9a"
      }
    },
    {
      "cell_type": "code",
      "source": [],
      "metadata": {
        "id": "k4hOXPKMIc0A"
      },
      "execution_count": null,
      "outputs": []
    },
    {
      "cell_type": "markdown",
      "source": [
        "# Any other metrics or hyperparameters that can be looked at?"
      ],
      "metadata": {
        "id": "ZPd-wYctgai9"
      }
    },
    {
      "cell_type": "code",
      "source": [],
      "metadata": {
        "id": "EB84shpSIwYl"
      },
      "execution_count": null,
      "outputs": []
    },
    {
      "cell_type": "markdown",
      "source": [
        "# Fourth Model"
      ],
      "metadata": {
        "id": "pcTvalpJgj24"
      }
    },
    {
      "cell_type": "code",
      "source": [],
      "metadata": {
        "id": "kyjZCxBSI60N"
      },
      "execution_count": null,
      "outputs": []
    },
    {
      "cell_type": "markdown",
      "source": [
        "# Test the third model"
      ],
      "metadata": {
        "id": "aVOqkQSUgnfx"
      }
    },
    {
      "cell_type": "code",
      "source": [],
      "metadata": {
        "id": "MKWO7FrbgqTe"
      },
      "execution_count": null,
      "outputs": []
    },
    {
      "cell_type": "markdown",
      "source": [
        "# Any other metrics or hyperparameters that can be looked at?"
      ],
      "metadata": {
        "id": "_0pieY_WgrFM"
      }
    },
    {
      "cell_type": "code",
      "source": [],
      "metadata": {
        "id": "MWsaJtumJFob"
      },
      "execution_count": null,
      "outputs": []
    }
  ]
}